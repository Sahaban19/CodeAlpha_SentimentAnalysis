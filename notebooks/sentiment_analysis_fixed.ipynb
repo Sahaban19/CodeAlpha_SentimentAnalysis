{
 "cells": [
  {
   "cell_type": "code",
   "execution_count": 4,
   "id": "48088ef3-8b70-4e58-a965-566c9d94cdf0",
   "metadata": {},
   "outputs": [],
   "source": [
    "import os\n",
    "import sys\n",
    "sys.path.append(os.path.abspath(\"..\"))  # Access ../sentiment folder\n",
    "\n",
    "import pandas as pd\n",
    "import seaborn as sns\n",
    "import matplotlib.pyplot as plt\n",
    "\n",
    "from sentiment.analyzer import analyze_textblob, analyze_vader\n"
   ]
  },
  {
   "cell_type": "code",
   "execution_count": 2,
   "id": "465a806e-da96-43e3-9827-296c4a0be767",
   "metadata": {},
   "outputs": [
    {
     "data": {
      "text/html": [
       "<div>\n",
       "<style scoped>\n",
       "    .dataframe tbody tr th:only-of-type {\n",
       "        vertical-align: middle;\n",
       "    }\n",
       "\n",
       "    .dataframe tbody tr th {\n",
       "        vertical-align: top;\n",
       "    }\n",
       "\n",
       "    .dataframe thead th {\n",
       "        text-align: right;\n",
       "    }\n",
       "</style>\n",
       "<table border=\"1\" class=\"dataframe\">\n",
       "  <thead>\n",
       "    <tr style=\"text-align: right;\">\n",
       "      <th></th>\n",
       "      <th>review</th>\n",
       "    </tr>\n",
       "  </thead>\n",
       "  <tbody>\n",
       "    <tr>\n",
       "      <th>0</th>\n",
       "      <td>This product is amazing!</td>\n",
       "    </tr>\n",
       "    <tr>\n",
       "      <th>1</th>\n",
       "      <td>Worst experience ever.</td>\n",
       "    </tr>\n",
       "    <tr>\n",
       "      <th>2</th>\n",
       "      <td>It’s okay, nothing special.</td>\n",
       "    </tr>\n",
       "    <tr>\n",
       "      <th>3</th>\n",
       "      <td>Absolutely loved it!</td>\n",
       "    </tr>\n",
       "    <tr>\n",
       "      <th>4</th>\n",
       "      <td>Terrible service, never again.</td>\n",
       "    </tr>\n",
       "  </tbody>\n",
       "</table>\n",
       "</div>"
      ],
      "text/plain": [
       "                           review\n",
       "0        This product is amazing!\n",
       "1          Worst experience ever.\n",
       "2     It’s okay, nothing special.\n",
       "3            Absolutely loved it!\n",
       "4  Terrible service, never again."
      ]
     },
     "execution_count": 2,
     "metadata": {},
     "output_type": "execute_result"
    }
   ],
   "source": [
    "df = pd.read_csv(\"../data/sample_reviews.csv\", quotechar='\"')\n",
    "df.head()\n"
   ]
  },
  {
   "cell_type": "code",
   "execution_count": 5,
   "id": "698e630f-ffae-44d4-8de0-6d5ffdacfc3d",
   "metadata": {},
   "outputs": [
    {
     "data": {
      "text/html": [
       "<div>\n",
       "<style scoped>\n",
       "    .dataframe tbody tr th:only-of-type {\n",
       "        vertical-align: middle;\n",
       "    }\n",
       "\n",
       "    .dataframe tbody tr th {\n",
       "        vertical-align: top;\n",
       "    }\n",
       "\n",
       "    .dataframe thead th {\n",
       "        text-align: right;\n",
       "    }\n",
       "</style>\n",
       "<table border=\"1\" class=\"dataframe\">\n",
       "  <thead>\n",
       "    <tr style=\"text-align: right;\">\n",
       "      <th></th>\n",
       "      <th>review</th>\n",
       "      <th>textblob_sentiment</th>\n",
       "      <th>textblob_score</th>\n",
       "      <th>vader_sentiment</th>\n",
       "      <th>vader_score</th>\n",
       "    </tr>\n",
       "  </thead>\n",
       "  <tbody>\n",
       "    <tr>\n",
       "      <th>0</th>\n",
       "      <td>This product is amazing!</td>\n",
       "      <td>positive</td>\n",
       "      <td>0.750000</td>\n",
       "      <td>positive</td>\n",
       "      <td>0.6239</td>\n",
       "    </tr>\n",
       "    <tr>\n",
       "      <th>1</th>\n",
       "      <td>Worst experience ever.</td>\n",
       "      <td>negative</td>\n",
       "      <td>-1.000000</td>\n",
       "      <td>negative</td>\n",
       "      <td>-0.6249</td>\n",
       "    </tr>\n",
       "    <tr>\n",
       "      <th>2</th>\n",
       "      <td>It’s okay, nothing special.</td>\n",
       "      <td>positive</td>\n",
       "      <td>0.428571</td>\n",
       "      <td>negative</td>\n",
       "      <td>-0.0920</td>\n",
       "    </tr>\n",
       "    <tr>\n",
       "      <th>3</th>\n",
       "      <td>Absolutely loved it!</td>\n",
       "      <td>positive</td>\n",
       "      <td>0.875000</td>\n",
       "      <td>positive</td>\n",
       "      <td>0.6689</td>\n",
       "    </tr>\n",
       "    <tr>\n",
       "      <th>4</th>\n",
       "      <td>Terrible service, never again.</td>\n",
       "      <td>negative</td>\n",
       "      <td>-1.000000</td>\n",
       "      <td>negative</td>\n",
       "      <td>-0.4767</td>\n",
       "    </tr>\n",
       "  </tbody>\n",
       "</table>\n",
       "</div>"
      ],
      "text/plain": [
       "                           review textblob_sentiment  textblob_score  \\\n",
       "0        This product is amazing!           positive        0.750000   \n",
       "1          Worst experience ever.           negative       -1.000000   \n",
       "2     It’s okay, nothing special.           positive        0.428571   \n",
       "3            Absolutely loved it!           positive        0.875000   \n",
       "4  Terrible service, never again.           negative       -1.000000   \n",
       "\n",
       "  vader_sentiment  vader_score  \n",
       "0        positive       0.6239  \n",
       "1        negative      -0.6249  \n",
       "2        negative      -0.0920  \n",
       "3        positive       0.6689  \n",
       "4        negative      -0.4767  "
      ]
     },
     "execution_count": 5,
     "metadata": {},
     "output_type": "execute_result"
    }
   ],
   "source": [
    "df[\"textblob_sentiment\"], df[\"textblob_score\"] = zip(*df[\"review\"].apply(analyze_textblob))\n",
    "df[\"vader_sentiment\"], df[\"vader_score\"] = zip(*df[\"review\"].apply(analyze_vader))\n",
    "df.head()\n"
   ]
  },
  {
   "cell_type": "code",
   "execution_count": 6,
   "id": "9398f3fd-2f96-4ac0-9331-ec2f98f26ead",
   "metadata": {},
   "outputs": [
    {
     "data": {
      "image/png": "[encoded data removed]",
      "text/plain": [
       "<Figure size 640x480 with 1 Axes>"
      ]
     },
     "metadata": {},
     "output_type": "display_data"
    }
   ],
   "source": [
    "sns.countplot(x=\"vader_sentiment\", data=df)\n",
    "plt.title(\"Sentiment Distribution (VADER)\")\n",
    "plt.show()\n"
   ]
  },
  {
   "cell_type": "code",
   "execution_count": 8,
   "id": "2921183f-1120-4e7f-aefd-4e3e67672468",
   "metadata": {},
   "outputs": [],
   "source": [
    "df.to_csv(\"../output/sentiment_results.csv\", index=False)\n"
   ]
  },
  {
   "cell_type": "code",
   "execution_count": null,
   "id": "fd32699f-d334-4284-a0ef-a9824589e5c8",
   "metadata": {},
   "outputs": [],
   "source": []
  }
 ],
 "metadata": {
  "kernelspec": {
   "display_name": "Python 3 (ipykernel)",
   "language": "python",
   "name": "python3"
  },
  "language_info": {
   "codemirror_mode": {
    "name": "ipython",
    "version": 3
   },
   "file_extension": ".py",
   "mimetype": "text/x-python",
   "name": "python",
   "nbconvert_exporter": "python",
   "pygments_lexer": "ipython3",
   "version": "3.12.4"
  }
 },
 "nbformat": 4,
 "nbformat_minor": 5
}
